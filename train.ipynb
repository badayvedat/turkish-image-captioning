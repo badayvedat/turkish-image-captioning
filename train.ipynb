{
 "cells": [
  {
   "cell_type": "code",
   "execution_count": 1,
   "source": [
    "from tensorflow.keras.layers.experimental.preprocessing import TextVectorization\n",
    "\n",
    "from train_utils import *\n",
    "from preprocess_utils import *\n",
    "\n",
    "import yaml\n",
    "import pickle\n",
    "\n",
    "config_path = 'configs/12heads20kvoc.yaml'\n",
    "with open(config_path) as f:\n",
    "    config_file = yaml.safe_load(f)\n",
    "\n",
    "EMBED_DIM = config_file['EMBED_DIM']\n",
    "FF_DIM = config_file['FF_DIM']\n",
    "NUM_HEADS = config_file['NUM_HEADS']\n",
    "SEQ_LENGTH = config_file['SEQ_LENGTH']\n",
    "VOCAB_SIZE = config_file['VOCAB_SIZE']\n",
    "BATCH_SIZE = config_file['BATCH_SIZE']\n",
    "EPOCHS = config_file['EPOCHS']\n",
    "LEARNING_RATE = config_file['LEARNING_RATE']\n",
    "USE_FEATURES = config_file['USE_FEATURES']\n",
    "COCO = config_file['COCO']\n",
    "FLICKR30K = config_file['FLICKR30K']\n",
    "FLICKR8K = config_file['FLICKR8K']\n",
    "\n",
    "train_files, train_captions, val_files, val_captions = load_data(coco=COCO, flickr30k=FLICKR30K, flickr8k=FLICKR8K)\n",
    "train_captions = [[cap] for cap in train_captions]\n",
    "val_captions = [[cap] for cap in val_captions]\n",
    "\n",
    "vectorization = TextVectorization(\n",
    "    max_tokens=VOCAB_SIZE,\n",
    "    output_mode=\"int\",\n",
    "    output_sequence_length=SEQ_LENGTH,\n",
    "    standardize=custom_standardization,\n",
    ")\n",
    "\n",
    "vectorization.adapt(train_captions)\n",
    "\n",
    "train_dataset = make_dataset(\n",
    "    train_files,\n",
    "    train_captions,\n",
    "    load_feature, vectorization,\n",
    "    BATCH_SIZE\n",
    ")\n",
    "\n",
    "validation_dataset = make_dataset(\n",
    "    val_files,\n",
    "    val_captions,\n",
    "    load_feature, vectorization,\n",
    "    BATCH_SIZE\n",
    ")\n",
    "\n",
    "caption_model = build_caption_model(\n",
    "    EMBED_DIM, FF_DIM, NUM_HEADS, SEQ_LENGTH, VOCAB_SIZE, USE_FEATURES\n",
    ")"
   ],
   "outputs": [],
   "metadata": {}
  },
  {
   "cell_type": "code",
   "execution_count": 4,
   "source": [
    "tf.config.list_physical_devices()"
   ],
   "outputs": [
    {
     "output_type": "execute_result",
     "data": {
      "text/plain": [
       "[PhysicalDevice(name='/physical_device:CPU:0', device_type='CPU')]"
      ]
     },
     "metadata": {},
     "execution_count": 4
    }
   ],
   "metadata": {}
  },
  {
   "cell_type": "code",
   "execution_count": null,
   "source": [
    "# Pickle the vocabulary\n",
    "pickle.dump({'config': vectorization.get_config(),\n",
    "             'weights': vectorization.get_weights()}\n",
    "            , open(\"20kVocab.pkl\", \"wb\"))"
   ],
   "outputs": [],
   "metadata": {}
  },
  {
   "cell_type": "code",
   "execution_count": 2,
   "source": [
    "# Early stopping criteria\n",
    "early_stopping = keras.callbacks.EarlyStopping(patience=3, restore_best_weights=True)\n",
    "# Checkpoint criteria\n",
    "checkpoint_callback = tf.keras.callbacks.ModelCheckpoint(\n",
    "    filepath='checkpoints/',\n",
    "    save_weights_only=True,\n",
    "    monitor='val_acc',\n",
    "    mode='max',\n",
    "    save_best_only=True\n",
    ")\n",
    "\n",
    "optimizer = tf.keras.optimizers.Adam(learning_rate=LEARNING_RATE)\n",
    "loss = keras.losses.SparseCategoricalCrossentropy(from_logits=True, reduction='none')\n",
    "caption_model.compile(\n",
    "    optimizer=optimizer,\n",
    "    loss=loss\n",
    ")"
   ],
   "outputs": [],
   "metadata": {}
  },
  {
   "cell_type": "code",
   "execution_count": null,
   "source": [
    "#caption_model.load_weights('checkpoints/3head20k')"
   ],
   "outputs": [],
   "metadata": {}
  },
  {
   "cell_type": "code",
   "execution_count": null,
   "source": [
    "history = caption_model.fit(\n",
    "    train_dataset,\n",
    "    epochs=EPOCHS,\n",
    "    validation_data=validation_dataset,\n",
    "    callbacks=[early_stopping, checkpoint_callback]\n",
    ")"
   ],
   "outputs": [
    {
     "output_type": "stream",
     "name": "stdout",
     "text": [
      "Epoch 1/7\n",
      "4446/4446 [==============================] - 4598s 1s/step - loss: 5.6076 - acc: 0.2776 - val_loss: 5.1300 - val_acc: 0.3108\n",
      "Epoch 2/7\n",
      "4446/4446 [==============================] - 5845s 1s/step - loss: 4.6055 - acc: 0.3582 - val_loss: 4.7943 - val_acc: 0.3270\n",
      "Epoch 3/7\n",
      "4446/4446 [==============================] - ETA: 0s - loss: 4.2240 - acc: 0.3865"
     ]
    }
   ],
   "metadata": {}
  },
  {
   "cell_type": "code",
   "execution_count": 4,
   "source": [
    "caption_model.evaluate(validation_dataset)"
   ],
   "outputs": [
    {
     "output_type": "stream",
     "name": "stdout",
     "text": [
      "134/134 [==============================] - 40s 294ms/step - loss: 4.8263 - acc: 0.3290\n"
     ]
    },
    {
     "output_type": "execute_result",
     "data": {
      "text/plain": [
       "[4.826329231262207, 0.32416287064552307]"
      ]
     },
     "metadata": {},
     "execution_count": 4
    }
   ],
   "metadata": {}
  },
  {
   "cell_type": "code",
   "execution_count": null,
   "source": [
    "caption_model.save_weights(f'checkpoints/{NUM_HEADS}_{VOCAB_SIZE}')"
   ],
   "outputs": [],
   "metadata": {}
  },
  {
   "cell_type": "code",
   "execution_count": 8,
   "source": [
    "vocab = vectorization.get_vocabulary()\n",
    "index_lookup = dict(zip(range(len(vocab)), vocab))\n",
    "max_decoded_sentence_length = SEQ_LENGTH - 1\n",
    "#valid_images = list(val_mapping.keys())\n",
    "\n",
    "\n",
    "def generate_caption(img_path):\n",
    "    # Select a random image from the validation dataset\n",
    "\n",
    "    # Read the image from the disk\n",
    "    img = np.load(img_path)\n",
    "   # img = load_image(img_path)\n",
    "    \n",
    "    # Pass the image to the CNN\n",
    "    img = tf.expand_dims(img, 0)\n",
    "\n",
    "    img = caption_model.cnn_model(img)\n",
    "\n",
    "    # Pass the image features to the Transformer encoder\n",
    "    encoded_img = caption_model.encoder(img, training=False)\n",
    "\n",
    "    # Generate the caption using the Transformer decoder\n",
    "    decoded_caption = \"<start> \"\n",
    "    for i in range(max_decoded_sentence_length):\n",
    "        tokenized_caption = vectorization([decoded_caption])[:, :-1]\n",
    "        mask = tf.math.not_equal(tokenized_caption, 0)\n",
    "        predictions = caption_model.decoder(\n",
    "            tokenized_caption, encoded_img, training=False, mask=mask\n",
    "        )\n",
    "    \n",
    "        sampled_token_index = np.argmax(predictions[0, i, :])\n",
    "        sampled_token = index_lookup[sampled_token_index]\n",
    "        #print(f'x{sampled_token}x')\n",
    "        if sampled_token == \" <end>\" or sampled_token == \"\": # second part is added later \n",
    "            break\n",
    "        decoded_caption += \" \" + sampled_token\n",
    "\n",
    "    print(\"PREDICTED CAPTION:\", end=\" \")\n",
    "    print(decoded_caption.replace(\"<start> \", \"\").replace(\" <end>\", \"\").strip())\n",
    "\n",
    "\n",
    "# Check predictions for a few samples\n",
    "generate_caption('data/features/coco_000000365655.npy')\n",
    "#for x in valid_images:\n",
    "#    generate_caption(x)"
   ],
   "outputs": [
    {
     "output_type": "stream",
     "name": "stdout",
     "text": [
      "PREDICTED CAPTION: bir adam bir kamyon ve bir kamyon\n"
     ]
    }
   ],
   "metadata": {}
  },
  {
   "cell_type": "code",
   "execution_count": null,
   "source": [],
   "outputs": [],
   "metadata": {}
  }
 ],
 "metadata": {
  "interpreter": {
   "hash": "9076867cda5545f0fb102aeb6e554bcacd7675eda690fd661d541ed6f913511a"
  },
  "kernelspec": {
   "display_name": "Python 3",
   "language": "python",
   "name": "python3"
  },
  "language_info": {
   "codemirror_mode": {
    "name": "ipython",
    "version": 3
   },
   "file_extension": ".py",
   "mimetype": "text/x-python",
   "name": "python",
   "nbconvert_exporter": "python",
   "pygments_lexer": "ipython3",
   "version": "3.7.10"
  }
 },
 "nbformat": 4,
 "nbformat_minor": 2
}