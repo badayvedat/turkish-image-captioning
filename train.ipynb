{
 "cells": [
  {
   "cell_type": "code",
   "execution_count": null,
   "metadata": {},
   "outputs": [],
   "source": [
    "from tensorflow.keras.layers.experimental.preprocessing import TextVectorization\n",
    "\n",
    "from train_utils import *\n",
    "from preprocess_utils import *\n",
    "\n",
    "import yaml\n",
    "import pickle\n",
    "\n",
    "config_path = 'configs/12heads20kvoc.yaml'\n",
    "\n",
    "with open(config_path) as f:\n",
    "    config_file = yaml.safe_load(f)\n",
    "\n",
    "EMBED_DIM = config_file['EMBED_DIM']\n",
    "FF_DIM = config_file['FF_DIM']\n",
    "NUM_HEADS = config_file['NUM_HEADS']\n",
    "SEQ_LENGTH = config_file['SEQ_LENGTH']\n",
    "VOCAB_SIZE = config_file['VOCAB_SIZE']\n",
    "BATCH_SIZE = config_file['BATCH_SIZE']\n",
    "EPOCHS = config_file['EPOCHS']\n",
    "LEARNING_RATE = config_file['LEARNING_RATE']\n",
    "USE_FEATURES = config_file['USE_FEATURES']\n",
    "COCO = config_file['COCO']\n",
    "FLICKR30K = config_file['FLICKR30K']\n",
    "FLICKR8K = config_file['FLICKR8K']\n",
    "\n",
    "train_files, train_captions, val_files, val_captions = load_data(coco=COCO, flickr30k=FLICKR30K, flickr8k=FLICKR8K)\n",
    "train_captions = [[cap] for cap in train_captions]\n",
    "val_captions = [[cap] for cap in val_captions]\n",
    "\n",
    "vectorization = TextVectorization(\n",
    "    max_tokens=VOCAB_SIZE,\n",
    "    output_mode=\"int\",\n",
    "    output_sequence_length=SEQ_LENGTH,\n",
    "    standardize=custom_standardization,\n",
    ")\n",
    "\n",
    "vectorization.adapt(train_captions)\n",
    "\n",
    "train_dataset = make_dataset(\n",
    "    train_files,\n",
    "    train_captions,\n",
    "    load_feature, vectorization,\n",
    "    BATCH_SIZE\n",
    ")\n",
    "\n",
    "validation_dataset = make_dataset(\n",
    "    val_files,\n",
    "    val_captions,\n",
    "    load_feature, vectorization,\n",
    "    BATCH_SIZE\n",
    ")\n",
    "\n",
    "caption_model = build_caption_model(\n",
    "    EMBED_DIM, FF_DIM, NUM_HEADS, SEQ_LENGTH, VOCAB_SIZE, USE_FEATURES\n",
    ")"
   ]
  },
  {
   "cell_type": "code",
   "execution_count": null,
   "metadata": {},
   "outputs": [],
   "source": [
    "# Pickle the vocabulary\n",
    "pickle.dump({'config': vectorization.get_config(),\n",
    "             'weights': vectorization.get_weights()}\n",
    "            , open(\"20kVocab.pkl\", \"wb\"))"
   ]
  },
  {
   "cell_type": "code",
   "execution_count": null,
   "metadata": {},
   "outputs": [],
   "source": [
    "# Early stopping criteria\n",
    "early_stopping = keras.callbacks.EarlyStopping(patience=3, restore_best_weights=True)\n",
    "# Checkpoint criteria\n",
    "checkpoint_callback = tf.keras.callbacks.ModelCheckpoint(\n",
    "    filepath='checkpoints/',\n",
    "    save_weights_only=True,\n",
    "    monitor='val_acc',\n",
    "    mode='max',\n",
    "    save_best_only=True\n",
    ")\n",
    "\n",
    "optimizer = tf.keras.optimizers.Adam(learning_rate=LEARNING_RATE)\n",
    "loss = keras.losses.SparseCategoricalCrossentropy(from_logits=True, reduction='none')\n",
    "caption_model.compile(\n",
    "    optimizer=optimizer,\n",
    "    loss=loss\n",
    ")"
   ]
  },
  {
   "cell_type": "code",
   "execution_count": null,
   "metadata": {},
   "outputs": [],
   "source": [
    "history = caption_model.fit(\n",
    "    train_dataset,\n",
    "    epochs=EPOCHS,\n",
    "    validation_data=validation_dataset,\n",
    "    callbacks=[early_stopping, checkpoint_callback]\n",
    ")"
   ]
  },
  {
   "cell_type": "code",
   "execution_count": null,
   "metadata": {},
   "outputs": [],
   "source": [
    "caption_model.save_weights(f'checkpoints/{NUM_HEADS}_{VOCAB_SIZE}')"
   ]
  }
 ],
 "metadata": {
  "interpreter": {
   "hash": "9076867cda5545f0fb102aeb6e554bcacd7675eda690fd661d541ed6f913511a"
  },
  "kernelspec": {
   "display_name": "Python 3",
   "language": "python",
   "name": "python3"
  },
  "language_info": {
   "codemirror_mode": {
    "name": "ipython",
    "version": 3
   },
   "file_extension": ".py",
   "mimetype": "text/x-python",
   "name": "python",
   "nbconvert_exporter": "python",
   "pygments_lexer": "ipython3",
   "version": "3.8.8"
  }
 },
 "nbformat": 4,
 "nbformat_minor": 2
}
